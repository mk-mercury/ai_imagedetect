{
 "cells": [
  {
   "cell_type": "code",
   "execution_count": 2,
   "metadata": {},
   "outputs": [],
   "source": [
    "from PIL import Image\n",
    "import os, glob\n",
    "import numpy as np\n",
    "from sklearn import model_selection\n",
    "\n",
    "def create_dataset(image_size):\n",
    "    folder = [\"baseball\",\"castle\",\"fireworks\",\"Mahjongtiles\",\"rugby\",\"waterfall\",\"rabbit\",\"watch\"]\n",
    "\n",
    "    X = []\n",
    "    Y = []\n",
    "    for index, name in enumerate(folder):\n",
    "        dir = \"./dataset/\" + name\n",
    "        files = glob.glob(dir + \"/*.jpg\")\n",
    "        for i, file in enumerate(files):\n",
    "\n",
    "            image = Image.open(file)\n",
    "            image = image.convert(\"RGB\")\n",
    "            image = image.resize((image_size, image_size))\n",
    "            data = np.asarray(image)\n",
    "            X.append(data)\n",
    "            Y.append(index)\n",
    "\n",
    "    X = np.array(X)\n",
    "    Y = np.array(Y)\n",
    "\n",
    "    #引数無しだと7.5:2.5に分けられるが、今回は7:3に分ける。\n",
    "    X_train,X_test,y_train,y_test = model_selection.train_test_split(X,Y,test_size=0.3)\n",
    "\n",
    "    xy = (X_train,X_test,y_train,y_test)\n",
    "\n",
    "    #Numpy配列をファイルに保存\n",
    "    np.save('./dataset/flickr_images_{0}.npy'.format(image_size),xy)\n",
    "\n",
    "# データセットの生成\n",
    "create_dataset(32)\n",
    "create_dataset(50)\n",
    "create_dataset(64)\n",
    "create_dataset(100)\n",
    "create_dataset(128)"
   ]
  }
 ],
 "metadata": {
  "kernelspec": {
   "display_name": "Python 3",
   "language": "python",
   "name": "python3"
  },
  "language_info": {
   "codemirror_mode": {
    "name": "ipython",
    "version": 3
   },
   "file_extension": ".py",
   "mimetype": "text/x-python",
   "name": "python",
   "nbconvert_exporter": "python",
   "pygments_lexer": "ipython3",
   "version": "3.7.7"
  }
 },
 "nbformat": 4,
 "nbformat_minor": 4
}
